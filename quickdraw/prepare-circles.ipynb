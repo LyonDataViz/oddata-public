{
 "cells": [
  {
   "cell_type": "code",
   "execution_count": 2,
   "metadata": {},
   "outputs": [],
   "source": [
    "import pandas as pd"
   ]
  },
  {
   "cell_type": "code",
   "execution_count": 3,
   "metadata": {},
   "outputs": [
    {
     "data": {
      "text/plain": [
       "122876"
      ]
     },
     "execution_count": 3,
     "metadata": {},
     "output_type": "execute_result"
    }
   ],
   "source": [
    "import ndjson\n",
    "\n",
    "# load from file-liake objects\n",
    "with open('circle.ndjson') as f:\n",
    "    data = ndjson.load(f)\n",
    "\n",
    "# convert to and from objects\n",
    "text = ndjson.dumps(data)\n",
    "data = ndjson.loads(text)\n",
    "len(data)"
   ]
  },
  {
   "cell_type": "code",
   "execution_count": 7,
   "metadata": {},
   "outputs": [],
   "source": [
    "df  = pd.DataFrame(columns = [\"id\", \"key_id\", \"x1\", \"y1\", \"x2\", \"y2\", \"step\", \"countrycode\", \"recognized\"])\n",
    "prev = None\n",
    "for c,d in enumerate(data[0:10000]):\n",
    "    for i,j in enumerate(d[\"drawing\"][0][0]):\n",
    "        if prev == None:\n",
    "            prev = (data[0][\"drawing\"][0][0][i], d[\"drawing\"][0][1][i])    \n",
    "        df = df.append({\"id\": 0, \"x1\": d[\"drawing\"][0][0][i], \n",
    "                        \"y1\": d[\"drawing\"][0][1][i], \n",
    "                        \"x2\": prev[0], \n",
    "                        \"y2\": prev[1],\n",
    "                        \"step\": i,\n",
    "                        \"key_id\": d[\"key_id\"],\n",
    "                        \"countrycode\": d[\"countrycode\"],\n",
    "                        \"recognized\": d[\"recognized\"]\n",
    "                       }, ignore_index=True)\n",
    "        prev = (d[\"drawing\"][0][0][i], d[\"drawing\"][0][1][i])"
   ]
  },
  {
   "cell_type": "code",
   "execution_count": 8,
   "metadata": {},
   "outputs": [
    {
     "data": {
      "text/html": [
       "<div>\n",
       "<style scoped>\n",
       "    .dataframe tbody tr th:only-of-type {\n",
       "        vertical-align: middle;\n",
       "    }\n",
       "\n",
       "    .dataframe tbody tr th {\n",
       "        vertical-align: top;\n",
       "    }\n",
       "\n",
       "    .dataframe thead th {\n",
       "        text-align: right;\n",
       "    }\n",
       "</style>\n",
       "<table border=\"1\" class=\"dataframe\">\n",
       "  <thead>\n",
       "    <tr style=\"text-align: right;\">\n",
       "      <th></th>\n",
       "      <th>id</th>\n",
       "      <th>key_id</th>\n",
       "      <th>x1</th>\n",
       "      <th>y1</th>\n",
       "      <th>x2</th>\n",
       "      <th>y2</th>\n",
       "      <th>step</th>\n",
       "      <th>countrycode</th>\n",
       "      <th>recognized</th>\n",
       "    </tr>\n",
       "  </thead>\n",
       "  <tbody>\n",
       "    <tr>\n",
       "      <th>0</th>\n",
       "      <td>0</td>\n",
       "      <td>5266005389475840</td>\n",
       "      <td>109</td>\n",
       "      <td>18</td>\n",
       "      <td>109</td>\n",
       "      <td>18</td>\n",
       "      <td>0</td>\n",
       "      <td>US</td>\n",
       "      <td>True</td>\n",
       "    </tr>\n",
       "    <tr>\n",
       "      <th>1</th>\n",
       "      <td>0</td>\n",
       "      <td>5266005389475840</td>\n",
       "      <td>85</td>\n",
       "      <td>18</td>\n",
       "      <td>109</td>\n",
       "      <td>18</td>\n",
       "      <td>1</td>\n",
       "      <td>US</td>\n",
       "      <td>True</td>\n",
       "    </tr>\n",
       "    <tr>\n",
       "      <th>2</th>\n",
       "      <td>0</td>\n",
       "      <td>5266005389475840</td>\n",
       "      <td>47</td>\n",
       "      <td>43</td>\n",
       "      <td>85</td>\n",
       "      <td>18</td>\n",
       "      <td>2</td>\n",
       "      <td>US</td>\n",
       "      <td>True</td>\n",
       "    </tr>\n",
       "    <tr>\n",
       "      <th>3</th>\n",
       "      <td>0</td>\n",
       "      <td>5266005389475840</td>\n",
       "      <td>22</td>\n",
       "      <td>69</td>\n",
       "      <td>47</td>\n",
       "      <td>43</td>\n",
       "      <td>3</td>\n",
       "      <td>US</td>\n",
       "      <td>True</td>\n",
       "    </tr>\n",
       "    <tr>\n",
       "      <th>4</th>\n",
       "      <td>0</td>\n",
       "      <td>5266005389475840</td>\n",
       "      <td>2</td>\n",
       "      <td>112</td>\n",
       "      <td>22</td>\n",
       "      <td>69</td>\n",
       "      <td>4</td>\n",
       "      <td>US</td>\n",
       "      <td>True</td>\n",
       "    </tr>\n",
       "  </tbody>\n",
       "</table>\n",
       "</div>"
      ],
      "text/plain": [
       "  id            key_id   x1   y1   x2  y2 step countrycode recognized\n",
       "0  0  5266005389475840  109   18  109  18    0          US       True\n",
       "1  0  5266005389475840   85   18  109  18    1          US       True\n",
       "2  0  5266005389475840   47   43   85  18    2          US       True\n",
       "3  0  5266005389475840   22   69   47  43    3          US       True\n",
       "4  0  5266005389475840    2  112   22  69    4          US       True"
      ]
     },
     "execution_count": 8,
     "metadata": {},
     "output_type": "execute_result"
    }
   ],
   "source": [
    "df.head()"
   ]
  },
  {
   "cell_type": "code",
   "execution_count": 9,
   "metadata": {},
   "outputs": [],
   "source": [
    "df.to_csv(\"circle-data.csv\", sep=',', encoding='utf-8', index=False)"
   ]
  },
  {
   "cell_type": "code",
   "execution_count": null,
   "metadata": {},
   "outputs": [],
   "source": []
  }
 ],
 "metadata": {
  "kernelspec": {
   "display_name": "Python 3",
   "language": "python",
   "name": "python3"
  },
  "language_info": {
   "codemirror_mode": {
    "name": "ipython",
    "version": 3
   },
   "file_extension": ".py",
   "mimetype": "text/x-python",
   "name": "python",
   "nbconvert_exporter": "python",
   "pygments_lexer": "ipython3",
   "version": "3.6.5"
  }
 },
 "nbformat": 4,
 "nbformat_minor": 2
}
